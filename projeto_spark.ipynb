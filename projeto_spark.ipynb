{
 "cells": [
  {
   "cell_type": "markdown",
   "id": "2b48e863-8e93-45c0-938d-c9a4566b69b8",
   "metadata": {},
   "source": [
    "# Projeto Spark\n",
    "\n",
    "A ser realizado em duplas.\n",
    "\n",
    "Entrega: 6 de dezembro de 2022"
   ]
  },
  {
   "cell_type": "markdown",
   "id": "4813f033-927b-46ca-8977-30e8b0de48c2",
   "metadata": {
    "tags": []
   },
   "source": [
    "## Introdução\n",
    "\n",
    "Neste projeto vamos construir um classificador Naive-Bayes para determinar o sentimento de um comentário."
   ]
  },
  {
   "cell_type": "markdown",
   "id": "8f7c97a3",
   "metadata": {},
   "source": [
    "## Instalando o ambiente"
   ]
  },
  {
   "cell_type": "markdown",
   "id": "3c9b3746",
   "metadata": {},
   "source": [
    "O jeito mais simples de começar a trabalhar com Spark é instalar um container com tudo pronto! No site https://hub.docker.com/r/jupyter/pyspark-notebook vemos uma imagem Docker que já vem com `pyspark` e `jupyter lab`. Instale a imagem com o comando:\n",
    "\n",
    "```bash\n",
    "docker pull jupyter/pyspark-notebook\n",
    "```\n",
    "\n",
    "Vamos iniciar o ambiente de trabalho com o comando `docker run`. Para isso precisamos tomar alguns cuidados:\n",
    "\n",
    "1) Temos que mapear nosso diretorio local de trabalho para um diretório interno do container, de modo que alterações feitas dentro do container (nesta pasta escolhida) sejam gravadas no nosso diretorio local. No container temos um usuário padrão com *username* `jovyan`. No *homedir* desse usuario temos uma pasta vazia `work`, que vai servir como local de mapeamento do nosso diretorio local de trabalho. Podemos então fazer esse mapeamendo com a opção `-v` do comando `docker run` da seguinte forma:\n",
    "\n",
    "```bash\n",
    "-v <diretorio>:/home/jovyan/work\n",
    "```\n",
    "\n",
    "onde `<diretorio>` representa seu diretorio local de trabalho.\n",
    "\n",
    "2) Para acessar o `jupyter notebook` e o *dashboard* do Spark a partir do nosso *browser* favorito temos que abrir algumas portas do container com a opção `-p`. As portas são `8888` (para o próprio `jupyter notebook`) e `4040` (para o *dashboard* do Spark). Ou seja, adicionaremos às opções do `docker run`o seguinte:\n",
    "\n",
    "```bash\n",
    "-p 8888:8888 -p 4040:4040\n",
    "```\n",
    "\n",
    "Desta forma, ao acessar `localhost:8888` na nossa máquina, estaremos acessando o servidor Jupyter na porta 8888 interna do container.\n",
    "\n",
    "3) Vamos iniciar o container no modo interativo, e vamos especificar que o container deve ser encerrado ao fechar o servidor Jupyter. Faremos isso com as opções `-it` e `-rm`\n",
    "\n",
    "Portanto, o comando completo que eu uso na minha máquina Linux para iniciar o container é:\n",
    "\n",
    "```bash\n",
    "docker run \\\n",
    "    -it \\\n",
    "    --rm \\\n",
    "    -p 8888:8888 \\\n",
    "    -p 4040:4040 \\\n",
    "    -v `pwd`:/home/jovyan/work \\\n",
    "    jupyter/pyspark-notebook\n",
    "\n",
    "\n",
    "```\n",
    "\n",
    "Para facilitar a vida eu coloco esse comando em um arquivo `inicia.sh`. Engenheiros, façam do jeito que preferirem!\n",
    "\n",
    "Agora abra esse notebook lá no container!\n"
   ]
  },
  {
   "cell_type": "markdown",
   "id": "3090720d-0dec-48ff-a8da-921b62764c43",
   "metadata": {},
   "source": [
    "## Iniciando o Spark"
   ]
  },
  {
   "cell_type": "markdown",
   "id": "603fa191-ca53-4035-9147-86f3cf27831a",
   "metadata": {},
   "source": [
    "Vamos iniciar o ambiente Spark. Para isso vamos:\n",
    "\n",
    "1) Criar um objeto de configuração do ambiente Spark. Nossa configuração será simples: vamos especificar que o nome da nossa aplicação Spark é \"Minha aplicação\", e que o *master node* é a máquina local, usando todos os *cores* disponíveis. Aplicações reais de Spark são configuradas de modo ligeiramente diferente: ao especificar o *master node* passamos uma URL real, com o endereço do nó gerente do *cluster* Spark.\n",
    "\n",
    "2) Vamos criar um objeto do tipo `SparkContext` com essa configuração"
   ]
  },
  {
   "cell_type": "code",
   "execution_count": 1,
   "id": "f6d1b7f8-ddc9-43b0-adbd-2b6e5aad182c",
   "metadata": {},
   "outputs": [],
   "source": [
    "import pyspark\n",
    "\n",
    "conf = pyspark.SparkConf()\n",
    "conf.setAppName('Minha aplicação')\n",
    "conf.setMaster('local[*]')\n",
    "\n",
    "sc = pyspark.SparkContext(conf=conf)"
   ]
  },
  {
   "cell_type": "markdown",
   "id": "0cfcd1c3-3c9b-47c6-bf36-06c60b796991",
   "metadata": {},
   "source": [
    "O `SparkContext` é a nossa porta de entrada para o cluster Spark, ele será a raiz de todas as nossas operações com o Spark."
   ]
  },
  {
   "cell_type": "code",
   "execution_count": 2,
   "id": "5214f8ff-9df1-4817-9e08-c1755470f3b6",
   "metadata": {},
   "outputs": [
    {
     "data": {
      "text/html": [
       "\n",
       "        <div>\n",
       "            <p><b>SparkContext</b></p>\n",
       "\n",
       "            <p><a href=\"http://de9775656abd:4040\">Spark UI</a></p>\n",
       "\n",
       "            <dl>\n",
       "              <dt>Version</dt>\n",
       "                <dd><code>v3.3.1</code></dd>\n",
       "              <dt>Master</dt>\n",
       "                <dd><code>local[*]</code></dd>\n",
       "              <dt>AppName</dt>\n",
       "                <dd><code>Minha aplicação</code></dd>\n",
       "            </dl>\n",
       "        </div>\n",
       "        "
      ],
      "text/plain": [
       "<SparkContext master=local[*] appName=Minha aplicação>"
      ]
     },
     "execution_count": 2,
     "metadata": {},
     "output_type": "execute_result"
    }
   ],
   "source": [
    "sc"
   ]
  },
  {
   "cell_type": "markdown",
   "id": "60acb677-070b-4191-bbad-ee16000ff380",
   "metadata": {},
   "source": [
    "O link acima provavelmente não funcionará porque ele se refere à porta 4040 interna do container (portanto a URL está com endereço interno). Porém fizemos o mapeamento da porta 4040 interna para a porta 4040 externa, logo você pode acessar o *dashboard* do Spark no endereço http://localhost:4040\n",
    "\n",
    "<center><img src=\"./spark_dashboard.png\" width=800/></center>"
   ]
  },
  {
   "cell_type": "markdown",
   "id": "c44bd07e-7f64-4c0d-b522-faf5313b53cc",
   "metadata": {},
   "source": [
    "## Lendo os dados"
   ]
  },
  {
   "cell_type": "markdown",
   "id": "b0c2f3af",
   "metadata": {},
   "source": [
    "Vamos começar lendo o arquivo de reviews e gravando o resultado em formato pickle, mais amigável."
   ]
  },
  {
   "cell_type": "code",
   "execution_count": 3,
   "id": "fe7fda56-bf06-4309-a265-26e553e20b94",
   "metadata": {},
   "outputs": [],
   "source": [
    "def parse_line(line):\n",
    "    parts = line[1:-1].split('\",\"')\n",
    "    sentiment = int(parts[0])\n",
    "    title = parts[1].replace('\"\"', '\"')\n",
    "    body = parts[2].replace('\"\"', '\"')\n",
    "    return (sentiment, title, body)\n",
    "\n",
    "rdd = sc.textFile('train.csv').map(parse_line)"
   ]
  },
  {
   "cell_type": "code",
   "execution_count": 4,
   "id": "900ea746-984c-405b-a449-d6cf8885525e",
   "metadata": {},
   "outputs": [
    {
     "data": {
      "text/plain": [
       "3600000"
      ]
     },
     "execution_count": 4,
     "metadata": {},
     "output_type": "execute_result"
    }
   ],
   "source": [
    "rdd.count()"
   ]
  },
  {
   "cell_type": "code",
   "execution_count": 5,
   "id": "e83f38e5-3d7b-4261-8ab3-caadb39d6076",
   "metadata": {},
   "outputs": [
    {
     "data": {
      "text/plain": [
       "[(2,\n",
       "  'Stuning even for the non-gamer',\n",
       "  'This sound track was beautiful! It paints the senery in your mind so well I would recomend it even to people who hate vid. game music! I have played the game Chrono Cross but out of all of the games I have ever played it has the best music! It backs away from crude keyboarding and takes a fresher step with grate guitars and soulful orchestras. It would impress anyone who cares to listen! ^_^')]"
      ]
     },
     "execution_count": 5,
     "metadata": {},
     "output_type": "execute_result"
    }
   ],
   "source": [
    "rdd.take(1)"
   ]
  },
  {
   "cell_type": "markdown",
   "id": "339c7933-ad3f-4a17-bf89-8e1360ddc4ab",
   "metadata": {},
   "source": [
    "Agora vamos gravar no formato pickle, para facilitar os trabalhos futuros. Após gravar o arquivo, não mais rode as células desta primeira etapa!"
   ]
  },
  {
   "cell_type": "code",
   "execution_count": 6,
   "id": "39938d62-bc17-4243-a9e8-3fed9c8d2bd9",
   "metadata": {},
   "outputs": [],
   "source": [
    "# rdd.saveAsPickleFile('reviews.pickle')"
   ]
  },
  {
   "cell_type": "markdown",
   "id": "6e4f5b5b-f0ac-4385-866b-8d8d8ecbdf9f",
   "metadata": {},
   "source": [
    "## Um classificador Naive-Bayes"
   ]
  },
  {
   "cell_type": "markdown",
   "id": "5a9ef2e6-ac48-46ad-b538-920c17aff6dc",
   "metadata": {},
   "source": [
    "Vamos ler o arquivo pickle gravado anteriormente:"
   ]
  },
  {
   "cell_type": "code",
   "execution_count": 7,
   "id": "9107ce80-0447-41d7-8f83-d96f0680d8fd",
   "metadata": {},
   "outputs": [],
   "source": [
    "rdd = sc.pickleFile('reviews.pickle')"
   ]
  },
  {
   "cell_type": "code",
   "execution_count": 8,
   "id": "ae84b476-b262-496f-93b0-19386fa9f29c",
   "metadata": {},
   "outputs": [
    {
     "data": {
      "text/plain": [
       "3600000"
      ]
     },
     "execution_count": 8,
     "metadata": {},
     "output_type": "execute_result"
    }
   ],
   "source": [
    "rdd.count()"
   ]
  },
  {
   "cell_type": "code",
   "execution_count": 9,
   "id": "607f7afa-43e7-4b82-bffc-7c1cca0536ae",
   "metadata": {},
   "outputs": [
    {
     "data": {
      "text/plain": [
       "[(2,\n",
       "  'Stuning even for the non-gamer',\n",
       "  'This sound track was beautiful! It paints the senery in your mind so well I would recomend it even to people who hate vid. game music! I have played the game Chrono Cross but out of all of the games I have ever played it has the best music! It backs away from crude keyboarding and takes a fresher step with grate guitars and soulful orchestras. It would impress anyone who cares to listen! ^_^')]"
      ]
     },
     "execution_count": 9,
     "metadata": {},
     "output_type": "execute_result"
    }
   ],
   "source": [
    "rdd.take(1)"
   ]
  },
  {
   "cell_type": "markdown",
   "id": "fc9751aa-df6d-4e3e-a8c5-039133cefe28",
   "metadata": {},
   "source": [
    "Agora, complete as tarefas em sequencia para construir o classificador Naive-Bayes:"
   ]
  },
  {
   "cell_type": "markdown",
   "id": "69bac409-7181-49c4-b555-73d3e9ff71f2",
   "metadata": {},
   "source": [
    "### Fase 1"
   ]
  },
  {
   "cell_type": "markdown",
   "id": "ef78654e-d064-41b4-9be8-306a57c425f4",
   "metadata": {},
   "source": [
    "### Tarefa"
   ]
  },
  {
   "cell_type": "markdown",
   "id": "e03d82f8-520e-49de-8397-5277d5bd072e",
   "metadata": {},
   "source": [
    "Construa uma função que recebe um RDD no formato do RDD original e retorna um RDD no qual cada item é um par (palavra, contagem)."
   ]
  },
  {
   "cell_type": "markdown",
   "id": "0b71febe-c90d-435f-99df-f45e234c75e9",
   "metadata": {},
   "source": [
    "### OBS:\n",
    "\n",
    "`flatmap` reduz a dimensionalidade do array e itera sobre cada elemento, onde em seguida aplica a função. Já o `map` itera diretamente.\n",
    "\n",
    "Ex: \n",
    "\n",
    "Dado o array arr = [\"1,2,3,4\", \"2,4,2,4\", \"3,2,3,4\", \"4,7,4,2\", \"5,3,7,8\"]\n",
    "\n",
    "<u>Map</u>\n",
    "\n",
    "[[\"1,2,3,4\"], [...], [...], [...], [\"5,3,7,8\"]] ---> O primeiro elemento seria \"1,2,3,4\" e assim sucessivamente --> Em seguida aplica função\n",
    "\n",
    "<u>FlatMap</u>\n",
    "\n",
    "[[\"1,2,3,4\"], [...], [...], [...], [\"5,3,7,8\"]] ---> reduz o array n x n para 1 x n: [\"1\", \"2\", \"3\", ..., \"5\", \"3\", \"7\", \"8\"] ---> Em seguida aplica função\n",
    "\n"
   ]
  },
  {
   "cell_type": "code",
   "execution_count": 10,
   "id": "7a2b7097-9e8e-4d9f-b2e1-172e4a5bccf2",
   "metadata": {},
   "outputs": [],
   "source": [
    "import string"
   ]
  },
  {
   "cell_type": "code",
   "execution_count": 11,
   "id": "6bb48e97-e57d-4b6a-9b27-b52cd9c3d195",
   "metadata": {
    "scrolled": true,
    "tags": []
   },
   "outputs": [],
   "source": [
    "def remove_ponctuation(r):\n",
    "    title = r[1].translate(str.maketrans('', '', string.punctuation))\n",
    "    body = r[2].translate(str.maketrans('', '', string.punctuation))\n",
    "    return title, body\n",
    "\n",
    "def word_separation(review):\n",
    "    t, b = remove_ponctuation(review)\n",
    "    corpus = t.split() + b.split()\n",
    "    return corpus"
   ]
  },
  {
   "cell_type": "code",
   "execution_count": 12,
   "id": "b726424c-df10-4703-bb97-d2c457ec7171",
   "metadata": {
    "scrolled": true,
    "tags": []
   },
   "outputs": [
    {
     "data": {
      "text/plain": [
       "[['Stuning',\n",
       "  'even',\n",
       "  'for',\n",
       "  'the',\n",
       "  'nongamer',\n",
       "  'This',\n",
       "  'sound',\n",
       "  'track',\n",
       "  'was',\n",
       "  'beautiful',\n",
       "  'It',\n",
       "  'paints',\n",
       "  'the',\n",
       "  'senery',\n",
       "  'in',\n",
       "  'your',\n",
       "  'mind',\n",
       "  'so',\n",
       "  'well',\n",
       "  'I',\n",
       "  'would',\n",
       "  'recomend',\n",
       "  'it',\n",
       "  'even',\n",
       "  'to',\n",
       "  'people',\n",
       "  'who',\n",
       "  'hate',\n",
       "  'vid',\n",
       "  'game',\n",
       "  'music',\n",
       "  'I',\n",
       "  'have',\n",
       "  'played',\n",
       "  'the',\n",
       "  'game',\n",
       "  'Chrono',\n",
       "  'Cross',\n",
       "  'but',\n",
       "  'out',\n",
       "  'of',\n",
       "  'all',\n",
       "  'of',\n",
       "  'the',\n",
       "  'games',\n",
       "  'I',\n",
       "  'have',\n",
       "  'ever',\n",
       "  'played',\n",
       "  'it',\n",
       "  'has',\n",
       "  'the',\n",
       "  'best',\n",
       "  'music',\n",
       "  'It',\n",
       "  'backs',\n",
       "  'away',\n",
       "  'from',\n",
       "  'crude',\n",
       "  'keyboarding',\n",
       "  'and',\n",
       "  'takes',\n",
       "  'a',\n",
       "  'fresher',\n",
       "  'step',\n",
       "  'with',\n",
       "  'grate',\n",
       "  'guitars',\n",
       "  'and',\n",
       "  'soulful',\n",
       "  'orchestras',\n",
       "  'It',\n",
       "  'would',\n",
       "  'impress',\n",
       "  'anyone',\n",
       "  'who',\n",
       "  'cares',\n",
       "  'to',\n",
       "  'listen'],\n",
       " ['The',\n",
       "  'best',\n",
       "  'soundtrack',\n",
       "  'ever',\n",
       "  'to',\n",
       "  'anything',\n",
       "  'Im',\n",
       "  'reading',\n",
       "  'a',\n",
       "  'lot',\n",
       "  'of',\n",
       "  'reviews',\n",
       "  'saying',\n",
       "  'that',\n",
       "  'this',\n",
       "  'is',\n",
       "  'the',\n",
       "  'best',\n",
       "  'game',\n",
       "  'soundtrack',\n",
       "  'and',\n",
       "  'I',\n",
       "  'figured',\n",
       "  'that',\n",
       "  'Id',\n",
       "  'write',\n",
       "  'a',\n",
       "  'review',\n",
       "  'to',\n",
       "  'disagree',\n",
       "  'a',\n",
       "  'bit',\n",
       "  'This',\n",
       "  'in',\n",
       "  'my',\n",
       "  'opinino',\n",
       "  'is',\n",
       "  'Yasunori',\n",
       "  'Mitsudas',\n",
       "  'ultimate',\n",
       "  'masterpiece',\n",
       "  'The',\n",
       "  'music',\n",
       "  'is',\n",
       "  'timeless',\n",
       "  'and',\n",
       "  'Im',\n",
       "  'been',\n",
       "  'listening',\n",
       "  'to',\n",
       "  'it',\n",
       "  'for',\n",
       "  'years',\n",
       "  'now',\n",
       "  'and',\n",
       "  'its',\n",
       "  'beauty',\n",
       "  'simply',\n",
       "  'refuses',\n",
       "  'to',\n",
       "  'fadeThe',\n",
       "  'price',\n",
       "  'tag',\n",
       "  'on',\n",
       "  'this',\n",
       "  'is',\n",
       "  'pretty',\n",
       "  'staggering',\n",
       "  'I',\n",
       "  'must',\n",
       "  'say',\n",
       "  'but',\n",
       "  'if',\n",
       "  'you',\n",
       "  'are',\n",
       "  'going',\n",
       "  'to',\n",
       "  'buy',\n",
       "  'any',\n",
       "  'cd',\n",
       "  'for',\n",
       "  'this',\n",
       "  'much',\n",
       "  'money',\n",
       "  'this',\n",
       "  'is',\n",
       "  'the',\n",
       "  'only',\n",
       "  'one',\n",
       "  'that',\n",
       "  'I',\n",
       "  'feel',\n",
       "  'would',\n",
       "  'be',\n",
       "  'worth',\n",
       "  'every',\n",
       "  'penny'],\n",
       " ['Amazing',\n",
       "  'This',\n",
       "  'soundtrack',\n",
       "  'is',\n",
       "  'my',\n",
       "  'favorite',\n",
       "  'music',\n",
       "  'of',\n",
       "  'all',\n",
       "  'time',\n",
       "  'hands',\n",
       "  'down',\n",
       "  'The',\n",
       "  'intense',\n",
       "  'sadness',\n",
       "  'of',\n",
       "  'Prisoners',\n",
       "  'of',\n",
       "  'Fate',\n",
       "  'which',\n",
       "  'means',\n",
       "  'all',\n",
       "  'the',\n",
       "  'more',\n",
       "  'if',\n",
       "  'youve',\n",
       "  'played',\n",
       "  'the',\n",
       "  'game',\n",
       "  'and',\n",
       "  'the',\n",
       "  'hope',\n",
       "  'in',\n",
       "  'A',\n",
       "  'Distant',\n",
       "  'Promise',\n",
       "  'and',\n",
       "  'Girl',\n",
       "  'who',\n",
       "  'Stole',\n",
       "  'the',\n",
       "  'Star',\n",
       "  'have',\n",
       "  'been',\n",
       "  'an',\n",
       "  'important',\n",
       "  'inspiration',\n",
       "  'to',\n",
       "  'me',\n",
       "  'personally',\n",
       "  'throughout',\n",
       "  'my',\n",
       "  'teen',\n",
       "  'years',\n",
       "  'The',\n",
       "  'higher',\n",
       "  'energy',\n",
       "  'tracks',\n",
       "  'like',\n",
       "  'Chrono',\n",
       "  'Cross',\n",
       "  'Times',\n",
       "  'Scar',\n",
       "  'Time',\n",
       "  'of',\n",
       "  'the',\n",
       "  'Dreamwatch',\n",
       "  'and',\n",
       "  'Chronomantique',\n",
       "  'indefinably',\n",
       "  'remeniscent',\n",
       "  'of',\n",
       "  'Chrono',\n",
       "  'Trigger',\n",
       "  'are',\n",
       "  'all',\n",
       "  'absolutely',\n",
       "  'superb',\n",
       "  'as',\n",
       "  'wellThis',\n",
       "  'soundtrack',\n",
       "  'is',\n",
       "  'amazing',\n",
       "  'music',\n",
       "  'probably',\n",
       "  'the',\n",
       "  'best',\n",
       "  'of',\n",
       "  'this',\n",
       "  'composers',\n",
       "  'work',\n",
       "  'I',\n",
       "  'havent',\n",
       "  'heard',\n",
       "  'the',\n",
       "  'Xenogears',\n",
       "  'soundtrack',\n",
       "  'so',\n",
       "  'I',\n",
       "  'cant',\n",
       "  'say',\n",
       "  'for',\n",
       "  'sure',\n",
       "  'and',\n",
       "  'even',\n",
       "  'if',\n",
       "  'youve',\n",
       "  'never',\n",
       "  'played',\n",
       "  'the',\n",
       "  'game',\n",
       "  'it',\n",
       "  'would',\n",
       "  'be',\n",
       "  'worth',\n",
       "  'twice',\n",
       "  'the',\n",
       "  'price',\n",
       "  'to',\n",
       "  'buy',\n",
       "  'itI',\n",
       "  'wish',\n",
       "  'I',\n",
       "  'could',\n",
       "  'give',\n",
       "  'it',\n",
       "  '6',\n",
       "  'stars'],\n",
       " ['Excellent',\n",
       "  'Soundtrack',\n",
       "  'I',\n",
       "  'truly',\n",
       "  'like',\n",
       "  'this',\n",
       "  'soundtrack',\n",
       "  'and',\n",
       "  'I',\n",
       "  'enjoy',\n",
       "  'video',\n",
       "  'game',\n",
       "  'music',\n",
       "  'I',\n",
       "  'have',\n",
       "  'played',\n",
       "  'this',\n",
       "  'game',\n",
       "  'and',\n",
       "  'most',\n",
       "  'of',\n",
       "  'the',\n",
       "  'music',\n",
       "  'on',\n",
       "  'here',\n",
       "  'I',\n",
       "  'enjoy',\n",
       "  'and',\n",
       "  'its',\n",
       "  'truly',\n",
       "  'relaxing',\n",
       "  'and',\n",
       "  'peacefulOn',\n",
       "  'disk',\n",
       "  'one',\n",
       "  'my',\n",
       "  'favorites',\n",
       "  'are',\n",
       "  'Scars',\n",
       "  'Of',\n",
       "  'Time',\n",
       "  'Between',\n",
       "  'Life',\n",
       "  'and',\n",
       "  'Death',\n",
       "  'Forest',\n",
       "  'Of',\n",
       "  'Illusion',\n",
       "  'Fortress',\n",
       "  'of',\n",
       "  'Ancient',\n",
       "  'Dragons',\n",
       "  'Lost',\n",
       "  'Fragment',\n",
       "  'and',\n",
       "  'Drowned',\n",
       "  'ValleyDisk',\n",
       "  'Two',\n",
       "  'The',\n",
       "  'Draggons',\n",
       "  'Galdorb',\n",
       "  'Home',\n",
       "  'Chronomantique',\n",
       "  'Prisoners',\n",
       "  'of',\n",
       "  'Fate',\n",
       "  'Gale',\n",
       "  'and',\n",
       "  'my',\n",
       "  'girlfriend',\n",
       "  'likes',\n",
       "  'ZelbessDisk',\n",
       "  'Three',\n",
       "  'The',\n",
       "  'best',\n",
       "  'of',\n",
       "  'the',\n",
       "  'three',\n",
       "  'Garden',\n",
       "  'Of',\n",
       "  'God',\n",
       "  'Chronopolis',\n",
       "  'Fates',\n",
       "  'Jellyfish',\n",
       "  'sea',\n",
       "  'Burning',\n",
       "  'Orphange',\n",
       "  'Dragons',\n",
       "  'Prayer',\n",
       "  'Tower',\n",
       "  'Of',\n",
       "  'Stars',\n",
       "  'Dragon',\n",
       "  'God',\n",
       "  'and',\n",
       "  'Radical',\n",
       "  'Dreamers',\n",
       "  'Unstealable',\n",
       "  'JewelOverall',\n",
       "  'this',\n",
       "  'is',\n",
       "  'a',\n",
       "  'excellent',\n",
       "  'soundtrack',\n",
       "  'and',\n",
       "  'should',\n",
       "  'be',\n",
       "  'brought',\n",
       "  'by',\n",
       "  'those',\n",
       "  'that',\n",
       "  'like',\n",
       "  'video',\n",
       "  'game',\n",
       "  'musicXander',\n",
       "  'Cross'],\n",
       " ['Remember',\n",
       "  'Pull',\n",
       "  'Your',\n",
       "  'Jaw',\n",
       "  'Off',\n",
       "  'The',\n",
       "  'Floor',\n",
       "  'After',\n",
       "  'Hearing',\n",
       "  'it',\n",
       "  'If',\n",
       "  'youve',\n",
       "  'played',\n",
       "  'the',\n",
       "  'game',\n",
       "  'you',\n",
       "  'know',\n",
       "  'how',\n",
       "  'divine',\n",
       "  'the',\n",
       "  'music',\n",
       "  'is',\n",
       "  'Every',\n",
       "  'single',\n",
       "  'song',\n",
       "  'tells',\n",
       "  'a',\n",
       "  'story',\n",
       "  'of',\n",
       "  'the',\n",
       "  'game',\n",
       "  'its',\n",
       "  'that',\n",
       "  'good',\n",
       "  'The',\n",
       "  'greatest',\n",
       "  'songs',\n",
       "  'are',\n",
       "  'without',\n",
       "  'a',\n",
       "  'doubt',\n",
       "  'Chrono',\n",
       "  'Cross',\n",
       "  'Times',\n",
       "  'Scar',\n",
       "  'Magical',\n",
       "  'Dreamers',\n",
       "  'The',\n",
       "  'Wind',\n",
       "  'The',\n",
       "  'Stars',\n",
       "  'and',\n",
       "  'the',\n",
       "  'Sea',\n",
       "  'and',\n",
       "  'Radical',\n",
       "  'Dreamers',\n",
       "  'Unstolen',\n",
       "  'Jewel',\n",
       "  'Translation',\n",
       "  'varies',\n",
       "  'This',\n",
       "  'music',\n",
       "  'is',\n",
       "  'perfect',\n",
       "  'if',\n",
       "  'you',\n",
       "  'ask',\n",
       "  'me',\n",
       "  'the',\n",
       "  'best',\n",
       "  'it',\n",
       "  'can',\n",
       "  'be',\n",
       "  'Yasunori',\n",
       "  'Mitsuda',\n",
       "  'just',\n",
       "  'poured',\n",
       "  'his',\n",
       "  'heart',\n",
       "  'on',\n",
       "  'and',\n",
       "  'wrote',\n",
       "  'it',\n",
       "  'down',\n",
       "  'on',\n",
       "  'paper']]"
      ]
     },
     "execution_count": 12,
     "metadata": {},
     "output_type": "execute_result"
    }
   ],
   "source": [
    "# Dessa maneira, estamos tendo acesso às palavras em listas pra cada review.\n",
    "rdd\\\n",
    "    .map(word_separation).take(5)"
   ]
  },
  {
   "cell_type": "code",
   "execution_count": 13,
   "id": "c34b6a47-85db-4316-ba44-afe60c1b73fc",
   "metadata": {},
   "outputs": [
    {
     "data": {
      "text/plain": [
       "['Stuning', 'even', 'for', 'the', 'nongamer']"
      ]
     },
     "execution_count": 13,
     "metadata": {},
     "output_type": "execute_result"
    }
   ],
   "source": [
    "# Queremos as palavras de TODOS reviews contidas em UMA lista apenas. Usando o flatMap, atingimos esse objetivo.\n",
    "rdd\\\n",
    "    .flatMap(word_separation).take(5)"
   ]
  },
  {
   "cell_type": "code",
   "execution_count": 14,
   "id": "ab3397bd-a566-4352-b321-d2a6a9d80e58",
   "metadata": {},
   "outputs": [],
   "source": [
    "# Ao invés de reduzir a um único valor como o reduce, o reduceByKey reduz a uma lista de tuplas, onde cada tupla seria um par (chave, valor)\n",
    "# reduceByKey(lambda accumulatedValue, currentValue: accumulatedValue + currentValue)\n",
    "def count_word(_rdd):\n",
    "    cw = _rdd \\\n",
    "        .flatMap(word_separation) \\\n",
    "        .map(lambda x: (x,1)) \\\n",
    "        .reduceByKey(lambda x,y: x+y)\n",
    "    return cw"
   ]
  },
  {
   "cell_type": "code",
   "execution_count": 15,
   "id": "39b81c56-6742-4fa9-bf32-596f6bffe25a",
   "metadata": {},
   "outputs": [
    {
     "data": {
      "text/plain": [
       "[('out', 782684), ('like', 965412), ('Stars', 7413)]"
      ]
     },
     "execution_count": 15,
     "metadata": {},
     "output_type": "execute_result"
    }
   ],
   "source": [
    "count = count_word(rdd)\n",
    "count.take(3)"
   ]
  },
  {
   "cell_type": "markdown",
   "id": "49d888c4-bef5-4d1c-a901-e8dc5029f1b0",
   "metadata": {
    "tags": []
   },
   "source": [
    "### Tarefa"
   ]
  },
  {
   "cell_type": "markdown",
   "id": "29ec5621-6c06-4dce-b351-e887d6aa8be4",
   "metadata": {},
   "source": [
    "Construa uma função que recebe o RDD (palavra, contagem) construido anteriormente e retorna um RDD no qual cada item é um par (palavra, $\\log_{10}\\left(c \\, / \\, T\\right)$), onde $c$ é a contagem daquela palavra e $T$ é a soma das contagens de palavra."
   ]
  },
  {
   "cell_type": "code",
   "execution_count": 16,
   "id": "ca379b49-a447-4ecf-9946-6c408e2adc97",
   "metadata": {},
   "outputs": [
    {
     "data": {
      "text/plain": [
       "281417436"
      ]
     },
     "execution_count": 16,
     "metadata": {},
     "output_type": "execute_result"
    }
   ],
   "source": [
    "T = count.map(lambda x: x[1]).sum()\n",
    "T"
   ]
  },
  {
   "cell_type": "code",
   "execution_count": 17,
   "id": "d6b7693e-547a-4008-b26c-c231e0ec78bd",
   "metadata": {},
   "outputs": [],
   "source": [
    "import numpy as np \n",
    "\n",
    "def count_log(_rdd):\n",
    "    T = _rdd.map(lambda x: x[1]).sum() \n",
    "    cl = _rdd.map(lambda x: (x[0], np.log10(x[1]/T)))\n",
    "    return cl "
   ]
  },
  {
   "cell_type": "code",
   "execution_count": 18,
   "id": "778593d9-445e-4b17-be67-0d986202476a",
   "metadata": {},
   "outputs": [
    {
     "data": {
      "text/plain": [
       "[('out', -2.555764545999455),\n",
       " ('like', -2.464638309090318),\n",
       " ('Stars', -4.579357001733198)]"
      ]
     },
     "execution_count": 18,
     "metadata": {},
     "output_type": "execute_result"
    }
   ],
   "source": [
    "cnt_log = count_log(count)\n",
    "cnt_log.take(3)"
   ]
  },
  {
   "cell_type": "markdown",
   "id": "09116064-380c-43ed-91a3-736c80b47fb9",
   "metadata": {},
   "source": [
    "#### Tarefa"
   ]
  },
  {
   "cell_type": "markdown",
   "id": "47df9afe-f429-4951-954d-8ac0361efee6",
   "metadata": {},
   "source": [
    "Separe o RDD original em dois RDDs: o dos reviews positivos e o dos negativos. Em seguida, use as funções anteriores para construir RDDs que contem os pares (palavra, $\\log_{10}\\left(c \\, / \\, T\\right)$)"
   ]
  },
  {
   "cell_type": "code",
   "execution_count": 19,
   "id": "987554e0-0a16-4827-9cc3-7c21063b1f8e",
   "metadata": {},
   "outputs": [],
   "source": [
    "negative_rdd = rdd.filter(lambda x: x[0] == 2)\n",
    "positive_rdd = rdd.filter(lambda x: x[0] == 1)\n",
    "\n",
    "negative_word_count = count_word(negative_rdd)\n",
    "positive_word_count = count_word(positive_rdd)\n",
    "\n",
    "#Construindo os pares\n",
    "neg_rdd = count_log(negative_word_count)\n",
    "pos_rdd = count_log(positive_word_count)           "
   ]
  },
  {
   "cell_type": "code",
   "execution_count": 20,
   "id": "a9b9490a-8d2c-4b46-87d0-c4782dab6a4b",
   "metadata": {},
   "outputs": [
    {
     "data": {
      "text/plain": [
       "[('out', -2.5897644969597597)]"
      ]
     },
     "execution_count": 20,
     "metadata": {},
     "output_type": "execute_result"
    }
   ],
   "source": [
    "neg_rdd.take(1)"
   ]
  },
  {
   "cell_type": "code",
   "execution_count": 21,
   "id": "60a0e359-5a34-4dda-b88b-eb0bf8159f82",
   "metadata": {},
   "outputs": [
    {
     "data": {
      "text/plain": [
       "[('book', -2.211221702630697)]"
      ]
     },
     "execution_count": 21,
     "metadata": {},
     "output_type": "execute_result"
    }
   ],
   "source": [
    "pos_rdd.take(1)"
   ]
  },
  {
   "cell_type": "markdown",
   "id": "dbfe5957-73d2-45ad-9ad2-6e029668bacf",
   "metadata": {},
   "source": [
    "### Tarefa"
   ]
  },
  {
   "cell_type": "markdown",
   "id": "904cb0c8-2236-47aa-8ab0-3ad925bb24ed",
   "metadata": {},
   "source": [
    "Use o `.fullOuterJoin()` dos RDDs para construir um RDD unificado, no qual cada item é da forma (palavra, log_prob_positivo, log_prob_negativo). \"Baixe\" esse resultado final usando `.collect()`."
   ]
  },
  {
   "cell_type": "code",
   "execution_count": 22,
   "id": "d6e96a01-b1a6-42c3-a3dc-cdb98d68830b",
   "metadata": {},
   "outputs": [
    {
     "data": {
      "text/plain": [
       "[('family', -3.3543939677236634, -3.807023215978198)]"
      ]
     },
     "execution_count": 22,
     "metadata": {},
     "output_type": "execute_result"
    }
   ],
   "source": [
    "pos_rdd.fullOuterJoin(neg_rdd).map(lambda x: (x[0], x[1][1], x[1][0])).take(1)"
   ]
  },
  {
   "cell_type": "code",
   "execution_count": 23,
   "id": "0b599156-e71d-46b4-9499-8d2dfe072512",
   "metadata": {},
   "outputs": [],
   "source": [
    "pre_unified_rdd = pos_rdd \\\n",
    "                .fullOuterJoin(neg_rdd) \\\n",
    "                .map(lambda x: (x[0], x[1][1], x[1][0]))\n",
    "unified_rdd = pre_unified_rdd.collect()"
   ]
  },
  {
   "cell_type": "markdown",
   "id": "79e90473-6725-4f30-9130-f5a0f370d968",
   "metadata": {},
   "source": [
    "#### Tarefa"
   ]
  },
  {
   "cell_type": "markdown",
   "id": "423d2117-397c-4a66-b63b-ca00036c1e2d",
   "metadata": {},
   "source": [
    "Para uma dada string, determine se ela é um review positivo ou negativo usando os RDDs acima. Lembre-se de como funciona o classificador Naive-Bayes: http://stanford.edu/~jurafsky/slp3/slides/7_NB.pdf, consulte tambem suas notas de aula de Ciência dos Dados!"
   ]
  },
  {
   "cell_type": "code",
   "execution_count": 24,
   "id": "f2f68949-61c8-46b4-a39e-bcfb3872c4fd",
   "metadata": {},
   "outputs": [],
   "source": [
    "def naive_bayes(review):\n",
    "    title, body = remove_ponctuation(review)\n",
    "    corpus = title.split() + body.split()\n",
    "    pos = 0\n",
    "    neg = 0\n",
    "    for word in corpus:\n",
    "        for tup in unified_rdd:\n",
    "            if word == tup[0]:\n",
    "                if tup[1] != None:\n",
    "                    pos += tup[1]\n",
    "                if tup[2] != None:\n",
    "                    neg += tup[2]\n",
    "    if pos > neg:\n",
    "        return 1\n",
    "    else:\n",
    "        return 2"
   ]
  },
  {
   "cell_type": "code",
   "execution_count": 32,
   "id": "6eb198da-6921-4a97-9f1e-10ee409bda39",
   "metadata": {},
   "outputs": [
    {
     "data": {
      "text/plain": [
       "[(2,\n",
       "  'This soundtrack is my favorite music of all time, hands down. The intense sadness of \"Prisoners of Fate\" (which means all the more if you\\'ve played the game) and the hope in \"A Distant Promise\" and \"Girl who Stole the Star\" have been an important inspiration to me personally throughout my teen years. The higher energy tracks like \"Chrono Cross ~ Time\\'s Scar~\", \"Time of the Dreamwatch\", and \"Chronomantique\" (indefinably remeniscent of Chrono Trigger) are all absolutely superb as well.This soundtrack is amazing music, probably the best of this composer\\'s work (I haven\\'t heard the Xenogears soundtrack, so I can\\'t say for sure), and even if you\\'ve never played the game, it would be worth twice the price to buy it.I wish I could give it 6 stars.'),\n",
       " (2,\n",
       "  \"I am quite sure any of you actually taking the time to read this have played the game at least once, and heard at least a few of the tracks here. And whether you were aware of it or not, Mitsuda's music contributed greatly to the mood of every single minute of the whole game.Composed of 3 CDs and quite a few songs (I haven't an exact count), all of which are heart-rendering and impressively remarkable, this soundtrack is one I assure you you will not forget. It has everything for every listener -- from fast-paced and energetic (Dancing the Tokage or Termina Home), to slower and more haunting (Dragon God), to purely beautifully composed (Time's Scar), to even some fantastic vocals (Radical Dreamers).This is one of the best videogame soundtracks out there, and surely Mitsuda's best ever. ^_^\"),\n",
       " (1,\n",
       "  \"The plot is so ridiculous, I have to wonder if they even read the script before making this film. The mountain lion breaks out of his trailer - and the cars behind don't notice? The mountain lion is captured - and put in a jail cell? Get real! Utterly, completely stupid.\"),\n",
       " (1,\n",
       "  'My three year old son was very excited to get this but after two attempts at playing it hasn\\'t been touched since. You are not able to use the mouse through any of the games except for the \"power-up segments\" instead you are using the up-down arrows on the keyboard - too hard for him and not much fun. Very disapointed with this game and wish I could return it.'),\n",
       " (2,\n",
       "  'One of these 26 songs played as background music on a YouTube video of some kind of gymnastic or dance feat out of Russia. I hunted down the melody, read the English lyrics, then decided to see what else was in the album. Downloaded the full album for $15 via Amazon mp3 downloader, and now happily listen to the melodies (interspersed) on my iPod.')]"
      ]
     },
     "execution_count": 32,
     "metadata": {},
     "output_type": "execute_result"
    }
   ],
   "source": [
    "#Montando uma base de teste a partir da de treino. Vamos testar com 1000 reviews\n",
    "teste = rdd.sample(False, 0.1).map(lambda x: (x[0], x[2])).take(1000)\n",
    "teste[:5]"
   ]
  },
  {
   "cell_type": "code",
   "execution_count": 36,
   "id": "18845d36-1b87-433b-a1d7-e5820817148e",
   "metadata": {},
   "outputs": [],
   "source": [
    "from tqdm import tqdm"
   ]
  },
  {
   "cell_type": "code",
   "execution_count": 37,
   "id": "1516d67f-830e-4005-a40d-f5cb99cf867d",
   "metadata": {},
   "outputs": [
    {
     "name": "stderr",
     "output_type": "stream",
     "text": [
      "100%|██████████| 1000/1000 [01:44<00:00,  9.60it/s]"
     ]
    },
    {
     "name": "stdout",
     "output_type": "stream",
     "text": [
      "0.496\n"
     ]
    },
    {
     "name": "stderr",
     "output_type": "stream",
     "text": [
      "\n"
     ]
    }
   ],
   "source": [
    "#Acurácia\n",
    "guessed_right = 0\n",
    "for tup in tqdm(teste):\n",
    "    sent = tup[0]\n",
    "    review = tup[1]\n",
    "    if sent == naive_bayes(review):\n",
    "        guessed_right += 1\n",
    "        \n",
    "print(guessed_right/len(teste))"
   ]
  },
  {
   "cell_type": "markdown",
   "id": "ab052fff-3752-4476-88f5-bc6b654c8e02",
   "metadata": {},
   "source": [
    "### Fase 2"
   ]
  },
  {
   "cell_type": "markdown",
   "id": "7071fa13-c31b-434e-969f-538c0070fb34",
   "metadata": {},
   "source": [
    "Agora que temos um classificador Naive-Bayes, vamos explorá-lo um pouco:"
   ]
  },
  {
   "cell_type": "markdown",
   "id": "57ed5be5-9e8d-4a7f-98bc-592cc7ecee74",
   "metadata": {},
   "source": [
    "### Tarefa"
   ]
  },
  {
   "cell_type": "markdown",
   "id": "fcb9bd58-1023-4cb7-861e-6cdbe5384356",
   "metadata": {},
   "source": [
    "Quais são as 100 palavras que mais indicam negatividade, ou seja, onde a diferença entre a probabilidade da palavra no conjunto dos comentários negativos e positivos é máxima? E quais as 100 palavras de maior positividade? Mostre os resultados na forma de *word clouds*."
   ]
  },
  {
   "cell_type": "code",
   "execution_count": null,
   "id": "c147d964-8720-43fa-a8e3-0610394a752f",
   "metadata": {},
   "outputs": [],
   "source": []
  },
  {
   "cell_type": "markdown",
   "id": "8854a0bf-1941-47eb-a1f5-6b3f4d34f857",
   "metadata": {},
   "source": [
    "### Tarefa desafio!"
   ]
  },
  {
   "cell_type": "markdown",
   "id": "94a98d11-16d6-4d97-b1ab-14db145e826e",
   "metadata": {},
   "source": [
    "Qual o desempenho do classificador (acurácia)? Para medir sua acurácia:\n",
    "\n",
    "- Separe os reviews em dois conjuntos: treinamente e teste\n",
    "- Repita o \"treinamento\" do classificador com o conjunto de treinamento\n",
    "- Para cada review do conjunto de teste, determine se é positiva ou negativa de acordo com o classificador\n",
    "- Determine a acurácia\n",
    "\n",
    "Esta não é uma tarefa trivial. Não basta fazer um `for` para determinar a classe de cada review de teste: isso demoraria uma eternidade. Você tem que usar variáveis \"broadcast\" do Spark para enviar uma cópia da tabela de frequencias para cada *core* do executor."
   ]
  },
  {
   "cell_type": "markdown",
   "id": "d12a2c0d-7bfc-40bf-b717-1414c1df05ec",
   "metadata": {},
   "source": [
    "### Tarefa desafio!"
   ]
  },
  {
   "cell_type": "markdown",
   "id": "6af21c4e-5a5b-4127-80a0-d79e95f03b8f",
   "metadata": {},
   "source": [
    "Implemente Laplace smoothing"
   ]
  },
  {
   "cell_type": "code",
   "execution_count": null,
   "id": "7f61c989-ec58-4ebe-be19-595ad9e4887c",
   "metadata": {},
   "outputs": [],
   "source": []
  },
  {
   "cell_type": "markdown",
   "id": "08805b7b-f8b5-4b85-ab53-3c0813f79c44",
   "metadata": {},
   "source": [
    "## Rubrica de avaliação"
   ]
  },
  {
   "cell_type": "markdown",
   "id": "74059567-1f3d-414a-bbc8-f5a7ea144b76",
   "metadata": {},
   "source": [
    "- I: groselha, falha crítica, ou não entregou nada\n",
    "- D: Fez uma tentativa honesta de fazer todos os itens da fase 1, mas tem erros\n",
    "- C: Fase 1 completa\n",
    "- B: Fase 2, faltando apenas um desafio\n",
    "- A: Fase 2 completa"
   ]
  },
  {
   "cell_type": "code",
   "execution_count": null,
   "id": "f33106eb-7a38-4d89-8a23-c14fce370bf1",
   "metadata": {},
   "outputs": [],
   "source": []
  }
 ],
 "metadata": {
  "kernelspec": {
   "display_name": "Python 3 (ipykernel)",
   "language": "python",
   "name": "python3"
  },
  "language_info": {
   "codemirror_mode": {
    "name": "ipython",
    "version": 3
   },
   "file_extension": ".py",
   "mimetype": "text/x-python",
   "name": "python",
   "nbconvert_exporter": "python",
   "pygments_lexer": "ipython3",
   "version": "3.10.8"
  },
  "vscode": {
   "interpreter": {
    "hash": "b0fa6594d8f4cbf19f97940f81e996739fb7646882a419484c72d19e05852a7e"
   }
  }
 },
 "nbformat": 4,
 "nbformat_minor": 5
}
